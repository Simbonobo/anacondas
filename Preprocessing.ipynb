{
 "cells": [
  {
   "cell_type": "code",
   "execution_count": 1,
   "metadata": {},
   "outputs": [],
   "source": [
    "import pandas as pd\n",
    "import numpy as np\n",
    "from datetime import datetime, timedelta, date, time\n",
    "import urllib\n",
    "import json\n",
    "import ssl"
   ]
  },
  {
   "cell_type": "markdown",
   "metadata": {},
   "source": [
    "---"
   ]
  },
  {
   "cell_type": "markdown",
   "metadata": {},
   "source": [
    "### **Import the data**"
   ]
  },
  {
   "cell_type": "markdown",
   "metadata": {},
   "source": [
    "Import CSV files"
   ]
  },
  {
   "cell_type": "code",
   "execution_count": 2,
   "metadata": {},
   "outputs": [],
   "source": [
    "df_bonn = pd.read_csv(\"data/bonn.csv\")\n",
    "df_essen = pd.read_csv(\"data/essen.csv\")"
   ]
  },
  {
   "cell_type": "code",
   "execution_count": 3,
   "metadata": {},
   "outputs": [
    {
     "data": {
      "text/html": [
       "<div>\n",
       "<style scoped>\n",
       "    .dataframe tbody tr th:only-of-type {\n",
       "        vertical-align: middle;\n",
       "    }\n",
       "\n",
       "    .dataframe tbody tr th {\n",
       "        vertical-align: top;\n",
       "    }\n",
       "\n",
       "    .dataframe thead th {\n",
       "        text-align: right;\n",
       "    }\n",
       "</style>\n",
       "<table border=\"1\" class=\"dataframe\">\n",
       "  <thead>\n",
       "    <tr style=\"text-align: right;\">\n",
       "      <th></th>\n",
       "      <th>day</th>\n",
       "      <th>time</th>\n",
       "      <th>b_number</th>\n",
       "      <th>city</th>\n",
       "      <th>trip_duration</th>\n",
       "      <th>orig_lat</th>\n",
       "      <th>orig_lng</th>\n",
       "      <th>dest_lat</th>\n",
       "      <th>dest_lng</th>\n",
       "    </tr>\n",
       "  </thead>\n",
       "  <tbody>\n",
       "    <tr>\n",
       "      <th>0</th>\n",
       "      <td>2019-03-06</td>\n",
       "      <td>01:13:00</td>\n",
       "      <td>21169</td>\n",
       "      <td>bonn</td>\n",
       "      <td>0 days 02:51:00.000000000</td>\n",
       "      <td>50.921682</td>\n",
       "      <td>6.959204</td>\n",
       "      <td>50.953793</td>\n",
       "      <td>6.899248</td>\n",
       "    </tr>\n",
       "    <tr>\n",
       "      <th>1</th>\n",
       "      <td>2019-03-06</td>\n",
       "      <td>14:43:00</td>\n",
       "      <td>21169</td>\n",
       "      <td>bonn</td>\n",
       "      <td>0 days 00:11:00.000000000</td>\n",
       "      <td>50.953793</td>\n",
       "      <td>6.899251</td>\n",
       "      <td>50.947463</td>\n",
       "      <td>6.922385</td>\n",
       "    </tr>\n",
       "    <tr>\n",
       "      <th>2</th>\n",
       "      <td>2019-03-06</td>\n",
       "      <td>15:21:00</td>\n",
       "      <td>21169</td>\n",
       "      <td>bonn</td>\n",
       "      <td>0 days 00:21:00.000000000</td>\n",
       "      <td>50.947462</td>\n",
       "      <td>6.922391</td>\n",
       "      <td>50.929703</td>\n",
       "      <td>6.932212</td>\n",
       "    </tr>\n",
       "    <tr>\n",
       "      <th>3</th>\n",
       "      <td>2019-03-06</td>\n",
       "      <td>17:45:00</td>\n",
       "      <td>21169</td>\n",
       "      <td>bonn</td>\n",
       "      <td>0 days 00:51:00.000000000</td>\n",
       "      <td>50.929703</td>\n",
       "      <td>6.932212</td>\n",
       "      <td>50.945799</td>\n",
       "      <td>6.915687</td>\n",
       "    </tr>\n",
       "    <tr>\n",
       "      <th>4</th>\n",
       "      <td>2019-03-07</td>\n",
       "      <td>05:58:00</td>\n",
       "      <td>21169</td>\n",
       "      <td>bonn</td>\n",
       "      <td>0 days 00:07:00.000000000</td>\n",
       "      <td>50.945765</td>\n",
       "      <td>6.915829</td>\n",
       "      <td>50.951143</td>\n",
       "      <td>6.915550</td>\n",
       "    </tr>\n",
       "  </tbody>\n",
       "</table>\n",
       "</div>"
      ],
      "text/plain": [
       "          day      time  b_number  city              trip_duration   orig_lat  \\\n",
       "0  2019-03-06  01:13:00     21169  bonn  0 days 02:51:00.000000000  50.921682   \n",
       "1  2019-03-06  14:43:00     21169  bonn  0 days 00:11:00.000000000  50.953793   \n",
       "2  2019-03-06  15:21:00     21169  bonn  0 days 00:21:00.000000000  50.947462   \n",
       "3  2019-03-06  17:45:00     21169  bonn  0 days 00:51:00.000000000  50.929703   \n",
       "4  2019-03-07  05:58:00     21169  bonn  0 days 00:07:00.000000000  50.945765   \n",
       "\n",
       "   orig_lng   dest_lat  dest_lng  \n",
       "0  6.959204  50.953793  6.899248  \n",
       "1  6.899251  50.947463  6.922385  \n",
       "2  6.922391  50.929703  6.932212  \n",
       "3  6.932212  50.945799  6.915687  \n",
       "4  6.915829  50.951143  6.915550  "
      ]
     },
     "execution_count": 3,
     "metadata": {},
     "output_type": "execute_result"
    }
   ],
   "source": [
    "df_bonn.head()"
   ]
  },
  {
   "cell_type": "code",
   "execution_count": 4,
   "metadata": {
    "scrolled": true
   },
   "outputs": [
    {
     "name": "stdout",
     "output_type": "stream",
     "text": [
      "<class 'pandas.core.frame.DataFrame'>\n",
      "RangeIndex: 329629 entries, 0 to 329628\n",
      "Data columns (total 9 columns):\n",
      " #   Column         Non-Null Count   Dtype  \n",
      "---  ------         --------------   -----  \n",
      " 0   day            329629 non-null  object \n",
      " 1   time           329629 non-null  object \n",
      " 2   b_number       329629 non-null  int64  \n",
      " 3   city           329629 non-null  object \n",
      " 4   trip_duration  329629 non-null  object \n",
      " 5   orig_lat       329629 non-null  float64\n",
      " 6   orig_lng       329629 non-null  float64\n",
      " 7   dest_lat       329629 non-null  float64\n",
      " 8   dest_lng       329629 non-null  float64\n",
      "dtypes: float64(4), int64(1), object(4)\n",
      "memory usage: 22.6+ MB\n"
     ]
    }
   ],
   "source": [
    "df_bonn.info()"
   ]
  },
  {
   "cell_type": "code",
   "execution_count": 5,
   "metadata": {},
   "outputs": [],
   "source": [
    "# Check df_essen for any trip_durations longer than a day\n",
    "for i in list(df_essen[\"trip_duration\"]):\n",
    "    if i[0] != \"0\":\n",
    "        print(i[0])"
   ]
  },
  {
   "cell_type": "markdown",
   "metadata": {},
   "source": [
    "Import API data"
   ]
  },
  {
   "cell_type": "code",
   "execution_count": null,
   "metadata": {},
   "outputs": [],
   "source": [
    "context = ssl._create_unverified_context()\n",
    "\n",
    "def request(city_id):\n",
    "    response = urllib.request.urlopen(f\"https://api.nextbike.net/maps/nextbike-live.json?city={city_id}\", context=context)\n",
    "    response = response.read().decode(\"utf-8\")\n",
    "    return json.loads(response)\n",
    "\n",
    "bonn_json = request(547)[\"countries\"][0] # Bonn city ID at NextBike is 547\n",
    "essen_json = request(158)[\"countries\"][0] # Essen city ID at NextBike ist 133\n",
    "# JSONs only contain one key on 0th level, \"countries\", which only contains a list with 1 element"
   ]
  },
  {
   "cell_type": "code",
   "execution_count": null,
   "metadata": {},
   "outputs": [],
   "source": [
    "# Use as center points for maps:\n",
    "bonn = np.array([bonn_json[\"lat\"], bonn_json[\"lng\"]])\n",
    "essen = np.array([essen_json[\"lat\"], essen_json[\"lng\"]])"
   ]
  },
  {
   "cell_type": "markdown",
   "metadata": {},
   "source": [
    "---"
   ]
  },
  {
   "cell_type": "markdown",
   "metadata": {},
   "source": [
    "### **Format the data**"
   ]
  },
  {
   "cell_type": "code",
   "execution_count": null,
   "metadata": {},
   "outputs": [],
   "source": [
    "def format_trip_duration(df):\n",
    "    \"\"\"\n",
    "    Assumption: all time durations are less than 1 day\n",
    "    Assumption: all time durations are measured in seconds (not milliseconds)\n",
    "    First turn \"0 days 02:51:00.0000\" into list split by \" \", so we get \n",
    "    x=[\"0\", \"days\", \"02:51:00.0000\"].\n",
    "    Since all trip_durations are less than 1 day, we can discard x[0] and x[1] and \n",
    "    focus on x[2].\n",
    "    We then split x[2], i.e. \"02:51:00.0000\", into a list split by \":\", so we get \n",
    "    x=[\"02\", \"51\", \"00.0000\"].\n",
    "    We now turn these elements into numbers and pass them into the timedelta constructor.\n",
    "    Timedelta objects describe differences in time, like time durations.\n",
    "    \"\"\"\n",
    "    df[\"trip_duration\"] = df[\"trip_duration\"].apply(\n",
    "        lambda s: s.split(\" \")[2].split(\":\"))\n",
    "    df[\"trip_duration\"] = df[\"trip_duration\"].apply(\n",
    "        lambda x: timedelta(hours=int(x[0]), minutes=int(x[1]), seconds=int(float(x[2]))))\n",
    "    return df\n",
    "\n",
    "def str_to_date(row):\n",
    "    return datetime.strptime(f\"{row['day']} {row['time']}\", \"%Y-%m-%d %H:%M:%S\")"
   ]
  },
  {
   "cell_type": "code",
   "execution_count": null,
   "metadata": {},
   "outputs": [],
   "source": [
    "%%time\n",
    "# Sort values, reset index (and drop old index)\n",
    "# Bonn:\n",
    "df_bonn.sort_values([\"day\", \"time\"], inplace=True)\n",
    "df_bonn = df_bonn.reset_index()\n",
    "df_bonn = df_bonn.drop(\"index\", axis=1)\n",
    "# Essen:\n",
    "df_essen.sort_values([\"day\", \"time\"], inplace=True)\n",
    "df_essen = df_essen.reset_index()\n",
    "df_essen = df_essen.drop(\"index\", axis=1)\n",
    "\n",
    "# Format trip duration\n",
    "df_bonn = format_trip_duration(df_bonn)\n",
    "df_essen = format_trip_duration(df_essen)\n",
    "\n",
    "# Create timestamp, weekday, hour columns\n",
    "# Bonn:\n",
    "df_bonn[\"timestamp\"] = df_bonn.apply(str_to_date, axis=1)\n",
    "df_bonn[\"weekday\"] = df_bonn[\"timestamp\"].apply(lambda row: row.weekday())\n",
    "df_bonn[\"hour\"] = df_bonn[\"timestamp\"].apply(lambda row: row.hour)\n",
    "# Essen:\n",
    "df_essen[\"timestamp\"] = df_essen.apply(str_to_date, axis=1)\n",
    "df_essen[\"weekday\"] = df_essen[\"timestamp\"].apply(lambda row: row.weekday())\n",
    "df_essen[\"hour\"] = df_essen[\"timestamp\"].apply(lambda row: row.hour)\n",
    "\n",
    "# Combine longitude/latitude coordinate columns: orig\n",
    "# Bonn:\n",
    "df_bonn[\"orig\"] = list(zip(df_bonn[\"orig_lat\"].round(4), df_bonn[\"orig_lng\"].round(4)))\n",
    "df_bonn[\"orig\"] = df_bonn[\"orig\"].apply(np.array) # turn tuples in np.arrays\n",
    "df_bonn[\"dest\"] = list(zip(df_bonn[\"dest_lat\"].round(4), df_bonn[\"dest_lng\"].round(4)))\n",
    "df_bonn[\"dest\"] = df_bonn[\"dest\"].apply(np.array) # turn tuples in np.arrays\n",
    "# Essen:\n",
    "df_essen[\"orig\"] = list(zip(df_essen[\"orig_lat\"].round(4), df_essen[\"orig_lng\"].round(4)))\n",
    "df_essen[\"orig\"] = df_essen[\"orig\"].apply(np.array) # turn tuples in np.arrays\n",
    "df_essen[\"dest\"] = list(zip(df_essen[\"dest_lat\"].round(4), df_essen[\"dest_lng\"].round(4)))\n",
    "df_essen[\"dest\"] = df_essen[\"dest\"].apply(np.array) # turn tuples in np.arrays"
   ]
  },
  {
   "cell_type": "code",
   "execution_count": null,
   "metadata": {},
   "outputs": [],
   "source": [
    "df_bonn"
   ]
  },
  {
   "cell_type": "code",
   "execution_count": null,
   "metadata": {},
   "outputs": [],
   "source": [
    "df_bonn.info()"
   ]
  },
  {
   "cell_type": "code",
   "execution_count": null,
   "metadata": {},
   "outputs": [],
   "source": []
  }
 ],
 "metadata": {
  "kernelspec": {
   "display_name": "Python 3",
   "language": "python",
   "name": "python3"
  },
  "language_info": {
   "codemirror_mode": {
    "name": "ipython",
    "version": 3
   },
   "file_extension": ".py",
   "mimetype": "text/x-python",
   "name": "python",
   "nbconvert_exporter": "python",
   "pygments_lexer": "ipython3",
   "version": "3.8.3"
  }
 },
 "nbformat": 4,
 "nbformat_minor": 4
}
